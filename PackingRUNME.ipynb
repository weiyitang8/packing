{
 "cells": [
  {
   "cell_type": "code",
   "execution_count": 20,
   "id": "e8276b0a",
   "metadata": {
    "scrolled": true
   },
   "outputs": [
    {
     "name": "stdout",
     "output_type": "stream",
     "text": [
      "\n",
      " -----------------------\n",
      " the output directory is built.\n",
      "now it is  0\n",
      "*** good design,finalscore is above 7    ### design_setup5_004-0017.pdb\n",
      "*** The finalscore is  8 there are 8 knobs packing into holes\n",
      "holeA8-9 ['knobX129']\n",
      "holeB2-3 ['knobX128']\n",
      "holeB9-10 ['knobX121']\n",
      "holeB16-17 ['knobX114']\n",
      "holeB23-24 ['knobX111']\n",
      "holeX111-112 ['knobA26']\n",
      "holeX118-119 ['knobA19']\n",
      "holeX128-129 ['knobA5']\n",
      "*** good design,finalscore is above 7    ### design_setup5_003-0022.pdb\n",
      "*** The finalscore is  7.5 there are 8 knobs packing into holes\n",
      "holeA8-9 ['knobX129']\n",
      "holeB9-10 ['knobX121']\n",
      "holeB16-17 ['knobX114']\n",
      "holeB19-20 ['knobX114']\n",
      "holeB23-24 ['knobX111']\n",
      "holeX121-122 ['knobA12']\n",
      "holeX125-126 ['knobA12']\n",
      "holeX128-129 ['knobA5']\n",
      "*** good design,finalscore is above 7    ### design_setup5_059-0002.pdb\n",
      "*** The finalscore is  7.5 there are 8 knobs packing into holes\n",
      "holeA8-9 ['knobX129']\n",
      "holeB9-10 ['knobX121']\n",
      "holeB16-17 ['knobX114']\n",
      "holeB23-24 ['knobX111']\n",
      "holeX111-112 ['knobA26']\n",
      "holeX118-119 ['knobA19']\n",
      "holeX121-122 ['knobA12']\n",
      "holeX125-126 ['knobA12']\n",
      "*** good design,finalscore is above 7    ### design_setup5_016-0016.pdb\n",
      "*** The finalscore is  7.5 there are 8 knobs packing into holes\n",
      "holeA8-9 ['knobX129']\n",
      "holeB9-10 ['knobX121']\n",
      "holeB16-17 ['knobX114']\n",
      "holeB23-24 ['knobX111']\n",
      "holeX118-119 ['knobA19']\n",
      "holeX121-122 ['knobA12']\n",
      "holeX125-126 ['knobA12']\n",
      "holeX128-129 ['knobA5']\n"
     ]
    }
   ],
   "source": [
    "import sys,os\n",
    "# sys.path.append('/Users/tangweiyi/Desktop/lib_py')\n",
    "import numpy as np\n",
    "import pandas as pd\n",
    "from Bio.PDB.PDBParser import PDBParser\n",
    "import pack_analysisV3 as pack\n",
    "import matplotlib.pyplot as plt\n",
    "import itertools\n",
    "import seaborn as sns\n",
    "import shutil\n",
    "\n",
    "\n",
    "###Run multiple Rosetta Design output and make the plot\n",
    "### input 1) Path to directory of the rosetta output PDB files\n",
    "### input 2) chains(no spacing) of the target protein interface eg. AB\n",
    "### input 3) chain(single letter) of the \"design TM antibody\" eg. X\n",
    "### input 4) the cutoff of finalscore to decide what hole-knob-pair details you what to print out\n",
    "### input 5) the cutoff of filter to deicde whether this design worth going through \n",
    "### usage\n",
    "### python RUNME.py . AB X 8\n",
    "\n",
    "###The plotting part was meant to use on the jupyter notebook though\n",
    "\n",
    "#################INPUT SECTION#############################3\n",
    "# input_dir=sys.argv[3]\n",
    "# chainABC_str = sys.argv[4]\n",
    "# chainX_str=sys.argv[5]\n",
    "# scorecutoff=float(sys.argv[6])\n",
    "\n",
    "\n",
    "#####################INPUTSECTION##############################\n",
    "input_dir='/home/sting-gpu/weiyi/design/Rosetta/setup5_output2/good_design'  \n",
    "chainABC_str = 'AB'\n",
    "chainX_str='X'\n",
    "scorecutoff=7\n",
    "thirdfilter=7\n",
    "output_dir='/home/sting-gpu/weiyi/design/Rosetta/setup5_output2/good_packing/dalphaball'\n",
    "###########################################################3\n",
    "\n",
    "dir_files = os.listdir(input_dir)\n",
    "pdb_files = [x for x in dir_files if x[-3:] == 'pdb']\n",
    "\n",
    "# print(pdb_files)\n",
    "\n",
    "if not os.path.exists(output_dir):\n",
    "    os.mkdir(output_dir)\n",
    "\n",
    "result_outfile= open(os.path.join(output_dir,'printed_result.txt'),'a')\n",
    "txt = '\\n#  Good design finalscore is above ' +str(scorecutoff)+'\\n'\n",
    "txt+= '#  Design_name          finalscore   #packed_knobs\\n'\n",
    "\n",
    "detailed_result=open(os.path.join(output_dri))\n",
    "    \n",
    "print('\\n -----------------------\\n the output directory is built.')\n",
    "    \n",
    "parser   =PDBParser(QUIET=1)\n",
    "num_knobs=np.zeros((len(pdb_files),7))\n",
    "\n",
    "        \n",
    "    \n",
    "for num,input_PDB_name in enumerate(pdb_files): \n",
    "    if num%10==0:\n",
    "        print('now it is ',num)\n",
    "#   print(input_PDB_name)\n",
    "    protein  = parser.get_structure(input_PDB_name,os.path.join(input_dir,input_PDB_name))[0]\n",
    "    sum1,sum2,sum3,sum4,sum5,sum6,finalscore,packingnames   =pack.excute(protein,chainABC_str,chainX_str,scorecutoff,thirdfilter)\n",
    "#   print(sum3,sum4,sum5,sum6,finalscore)\n",
    "    #Huge matrix for further plotting\n",
    "    num_knobs[num][0]=sum1  #holeABC pass the first filter, vector method\n",
    "    num_knobs[num][1]=sum2\t#holeX pass the first filter, vector method\n",
    "    num_knobs[num][2]=sum3  #holeABC pass the second filter, sasa/chain\n",
    "    num_knobs[num][3]=sum4  #holeX pass the second filter, sasa/chain\n",
    "    num_knobs[num][4]=sum5  #holeABC pass the second filter,sasa/knob\n",
    "    num_knobs[num][5]=sum6  #holeX pass the second filter, sasa/knob\n",
    "    num_knobs[num][6]=finalscore #final score, fully packing +1, partially packing +0.5\n",
    "    \n",
    "    if finalscore >scorecutoff:\n",
    "        \n",
    "        #print out the result \n",
    "        print('*** good design,finalscore is above', scorecutoff,  '   ###', protein.get_parent().id)\n",
    "        print('*** The finalscore is ', finalscore, 'there are',sum6+sum5, 'knobs packing into holes')\n",
    "        for pair in packingnames:\n",
    "            print(pair[0],pair[1])\n",
    "        \n",
    "        #writing all the print-out to a result txt\n",
    "        txt+= str(input_PDB_name)+'         %.1f        '%finalscore + '%.1f'%(sum5+sum6)+'\\n'\n",
    "#         print(txt)\n",
    "        \n",
    "        \n",
    "        #copy the good packing designs to a new directory\n",
    "        outfile=os.path.join(output_dir,input_PDB_name)\n",
    "        if not os.path.exists(outfile):\n",
    "            print(outfile, 'is copying to the good_packing folding')\n",
    "            shutil.copyfile(os.path.join(input_dir,input_PDB_name),outfile)\n",
    "\n",
    "\n",
    "result_outfile.write(txt)\n",
    "result_outfile.close()\n",
    "            \n",
    "            \n",
    "            \n",
    "#Huge matrix for further plotting            \n",
    "knobs=num_knobs.T\n",
    "knobsABC=knobs[:5:2]\n",
    "knobsX= knobs[1:6:2]\n",
    "knobsum=knobsABC+knobsX   # combine the #holeABC and #holeX in different filters\n",
    "\n",
    "\n"
   ]
  },
  {
   "cell_type": "code",
   "execution_count": 1,
   "id": "52391542",
   "metadata": {
    "scrolled": true
   },
   "outputs": [
    {
     "ename": "NameError",
     "evalue": "name 'os' is not defined",
     "output_type": "error",
     "traceback": [
      "\u001b[0;31m---------------------------------------------------------------------------\u001b[0m",
      "\u001b[0;31mNameError\u001b[0m                                 Traceback (most recent call last)",
      "\u001b[0;32m/tmp/ipykernel_62002/2711644485.py\u001b[0m in \u001b[0;36m<module>\u001b[0;34m\u001b[0m\n\u001b[1;32m      1\u001b[0m \u001b[0;31m# print('+++++++++++++++++++++')\u001b[0m\u001b[0;34m\u001b[0m\u001b[0;34m\u001b[0m\u001b[0;34m\u001b[0m\u001b[0m\n\u001b[0;32m----> 2\u001b[0;31m \u001b[0mgood_pack\u001b[0m\u001b[0;34m=\u001b[0m\u001b[0mos\u001b[0m\u001b[0;34m.\u001b[0m\u001b[0mlistdir\u001b[0m\u001b[0;34m(\u001b[0m\u001b[0moutput_dir\u001b[0m\u001b[0;34m)\u001b[0m\u001b[0;34m\u001b[0m\u001b[0;34m\u001b[0m\u001b[0m\n\u001b[0m\u001b[1;32m      3\u001b[0m \u001b[0mgood_pack_pdb\u001b[0m\u001b[0;34m=\u001b[0m\u001b[0;34m[\u001b[0m\u001b[0mx\u001b[0m\u001b[0;34m[\u001b[0m\u001b[0;34m-\u001b[0m\u001b[0;36m12\u001b[0m\u001b[0;34m:\u001b[0m\u001b[0;34m-\u001b[0m\u001b[0;36m3\u001b[0m\u001b[0;34m]\u001b[0m \u001b[0;32mfor\u001b[0m \u001b[0mx\u001b[0m \u001b[0;32min\u001b[0m \u001b[0mgood_pack\u001b[0m \u001b[0;32mif\u001b[0m \u001b[0mx\u001b[0m\u001b[0;34m[\u001b[0m\u001b[0;34m-\u001b[0m\u001b[0;36m3\u001b[0m\u001b[0;34m:\u001b[0m\u001b[0;34m]\u001b[0m\u001b[0;34m==\u001b[0m\u001b[0;34m'pdb'\u001b[0m\u001b[0;34m]\u001b[0m\u001b[0;34m\u001b[0m\u001b[0;34m\u001b[0m\u001b[0m\n\u001b[1;32m      4\u001b[0m \u001b[0;31m# print(good_pack_pdb)\u001b[0m\u001b[0;34m\u001b[0m\u001b[0;34m\u001b[0m\u001b[0;34m\u001b[0m\u001b[0m\n\u001b[1;32m      5\u001b[0m \u001b[0mgood_design\u001b[0m\u001b[0;34m=\u001b[0m\u001b[0mos\u001b[0m\u001b[0;34m.\u001b[0m\u001b[0mlistdir\u001b[0m\u001b[0;34m(\u001b[0m\u001b[0;34m'/home/sting-gpu/weiyi/design/setup5_output2/good_design'\u001b[0m\u001b[0;34m)\u001b[0m\u001b[0;34m\u001b[0m\u001b[0;34m\u001b[0m\u001b[0m\n",
      "\u001b[0;31mNameError\u001b[0m: name 'os' is not defined"
     ]
    }
   ],
   "source": [
    "# print('+++++++++++++++++++++')\n",
    "good_pack=os.listdir(output_dir)\n",
    "good_pack_pdb=[x[-12:-3] for x in good_pack if x[-3:]=='pdb']\n",
    "# print(good_pack_pdb)\n",
    "good_design=os.listdir('/home/sting-gpu/weiyi/design/setup5_output2/good_design')\n",
    "good_design_pdb=[x[-12:-3].replace('-','_') for x in good_design]\n",
    "for pdb in good_pack_pdb:\n",
    "    if pdb in good_design_pdb:\n",
    "        print(pdb)\n",
    "        "
   ]
  },
  {
   "cell_type": "code",
   "execution_count": 9,
   "id": "76706814",
   "metadata": {},
   "outputs": [
    {
     "ename": "NameError",
     "evalue": "name 'knobs' is not defined",
     "output_type": "error",
     "traceback": [
      "\u001b[0;31m---------------------------------------------------------------------------\u001b[0m",
      "\u001b[0;31mNameError\u001b[0m                                 Traceback (most recent call last)",
      "\u001b[0;32m/tmp/ipykernel_8130/2629582233.py\u001b[0m in \u001b[0;36m<module>\u001b[0;34m\u001b[0m\n\u001b[1;32m      7\u001b[0m \u001b[0;34m\u001b[0m\u001b[0m\n\u001b[1;32m      8\u001b[0m \u001b[0mplt\u001b[0m\u001b[0;34m.\u001b[0m\u001b[0mfigure\u001b[0m\u001b[0;34m(\u001b[0m\u001b[0mfigsize\u001b[0m\u001b[0;34m=\u001b[0m\u001b[0;34m(\u001b[0m\u001b[0;36m13\u001b[0m\u001b[0;34m,\u001b[0m\u001b[0;36m10\u001b[0m\u001b[0;34m)\u001b[0m\u001b[0;34m,\u001b[0m \u001b[0mdpi\u001b[0m\u001b[0;34m=\u001b[0m \u001b[0;36m80\u001b[0m\u001b[0;34m)\u001b[0m\u001b[0;34m\u001b[0m\u001b[0;34m\u001b[0m\u001b[0m\n\u001b[0;32m----> 9\u001b[0;31m \u001b[0msns\u001b[0m\u001b[0;34m.\u001b[0m\u001b[0mdistplot\u001b[0m\u001b[0;34m(\u001b[0m\u001b[0mknobs\u001b[0m\u001b[0;34m[\u001b[0m\u001b[0;36m6\u001b[0m\u001b[0;34m]\u001b[0m\u001b[0;34m,\u001b[0m \u001b[0mcolor\u001b[0m\u001b[0;34m=\u001b[0m\u001b[0;34m\"salmon\"\u001b[0m\u001b[0;34m,\u001b[0m \u001b[0mlabel\u001b[0m\u001b[0;34m=\u001b[0m\u001b[0;34m\"finalscore\"\u001b[0m\u001b[0;34m,\u001b[0m \u001b[0mhist_kws\u001b[0m\u001b[0;34m=\u001b[0m\u001b[0;34m{\u001b[0m\u001b[0;34m'alpha'\u001b[0m\u001b[0;34m:\u001b[0m\u001b[0;36m.7\u001b[0m\u001b[0;34m}\u001b[0m\u001b[0;34m,\u001b[0m \u001b[0mkde_kws\u001b[0m\u001b[0;34m=\u001b[0m\u001b[0;34m{\u001b[0m\u001b[0;34m'linewidth'\u001b[0m\u001b[0;34m:\u001b[0m\u001b[0;36m3\u001b[0m\u001b[0;34m}\u001b[0m\u001b[0;34m)\u001b[0m\u001b[0;34m\u001b[0m\u001b[0;34m\u001b[0m\u001b[0m\n\u001b[0m\u001b[1;32m     10\u001b[0m \u001b[0mplt\u001b[0m\u001b[0;34m.\u001b[0m\u001b[0mylim\u001b[0m\u001b[0;34m(\u001b[0m\u001b[0;36m0\u001b[0m\u001b[0;34m,\u001b[0m \u001b[0;36m0.5\u001b[0m\u001b[0;34m)\u001b[0m\u001b[0;34m\u001b[0m\u001b[0;34m\u001b[0m\u001b[0m\n\u001b[1;32m     11\u001b[0m \u001b[0mplt\u001b[0m\u001b[0;34m.\u001b[0m\u001b[0mtitle\u001b[0m\u001b[0;34m(\u001b[0m\u001b[0;34m'Final Score Distribution'\u001b[0m\u001b[0;34m,\u001b[0m \u001b[0mfontsize\u001b[0m\u001b[0;34m=\u001b[0m\u001b[0;36m22\u001b[0m\u001b[0;34m)\u001b[0m\u001b[0;34m\u001b[0m\u001b[0;34m\u001b[0m\u001b[0m\n",
      "\u001b[0;31mNameError\u001b[0m: name 'knobs' is not defined"
     ]
    },
    {
     "data": {
      "text/plain": [
       "<Figure size 1040x800 with 0 Axes>"
      ]
     },
     "metadata": {},
     "output_type": "display_data"
    }
   ],
   "source": [
    "###########################Plotting the final score distribution#######################\n",
    "\n",
    "import matplotlib.pyplot as plt\n",
    "import itertools\n",
    "import seaborn as sns\n",
    "import shutil\n",
    "\n",
    "plt.figure(figsize=(13,10), dpi= 80)\n",
    "sns.distplot(knobs[6], color=\"salmon\", label=\"finalscore\", hist_kws={'alpha':.7}, kde_kws={'linewidth':3})\n",
    "plt.ylim(0, 0.5)\n",
    "plt.title('Final Score Distribution', fontsize=22)\n",
    "plt.legend()\n",
    "plt.show()\n",
    "out_image_path=os.path.join(output_dir,'finalscore.png' )\n",
    "plt.savefig(out_image_path, dpi=300,bbox_inches='tight')\n",
    "\n",
    "\n"
   ]
  },
  {
   "cell_type": "code",
   "execution_count": 6,
   "id": "4f72b8d4",
   "metadata": {},
   "outputs": [
    {
     "name": "stderr",
     "output_type": "stream",
     "text": [
      "/home/sting-gpu/qBits/miniconda3/lib/python3.8/site-packages/seaborn/distributions.py:2619: FutureWarning: `distplot` is a deprecated function and will be removed in a future version. Please adapt your code to use either `displot` (a figure-level function with similar flexibility) or `histplot` (an axes-level function for histograms).\n",
      "  warnings.warn(msg, FutureWarning)\n",
      "/home/sting-gpu/qBits/miniconda3/lib/python3.8/site-packages/seaborn/distributions.py:2619: FutureWarning: `distplot` is a deprecated function and will be removed in a future version. Please adapt your code to use either `displot` (a figure-level function with similar flexibility) or `histplot` (an axes-level function for histograms).\n",
      "  warnings.warn(msg, FutureWarning)\n",
      "/home/sting-gpu/qBits/miniconda3/lib/python3.8/site-packages/seaborn/distributions.py:2619: FutureWarning: `distplot` is a deprecated function and will be removed in a future version. Please adapt your code to use either `displot` (a figure-level function with similar flexibility) or `histplot` (an axes-level function for histograms).\n",
      "  warnings.warn(msg, FutureWarning)\n"
     ]
    },
    {
     "data": {
      "image/png": "[encoded data removed]",
      "text/plain": [
       "<Figure size 1040x800 with 1 Axes>"
      ]
     },
     "metadata": {
      "needs_background": "light"
     },
     "output_type": "display_data"
    }
   ],
   "source": [
    "############################Plotting three-filtered results respectively##################\n",
    "plt.figure(figsize=(13,10), dpi= 80)\n",
    "sns.distplot(knobsum[0], color=\"dodgerblue\", label=\"vec_1st\", hist_kws={'alpha':.7}, kde_kws={'linewidth':3})\n",
    "sns.distplot(knobsum[1], color=\"orange\", label=\"SASA/chain_2nd\", hist_kws={'alpha':.7}, kde_kws={'linewidth':3})\n",
    "sns.distplot(knobsum[2], color=\"g\", label=\"SASA/knob_3rd\", hist_kws={'alpha':.7}, kde_kws={'linewidth':3})\n",
    "\n",
    "\n",
    "plt.ylim(0, 0.5)\n",
    "\n",
    "plt.title('20', fontsize=22)\n",
    "plt.legend()\n",
    "plt.show()\n",
    "\n",
    "\n"
   ]
  },
  {
   "cell_type": "code",
   "execution_count": 7,
   "id": "123a1923",
   "metadata": {},
   "outputs": [
    {
     "data": {
      "image/png": "[encoded data removed]",
      "text/plain": [
       "<Figure size 720x432 with 6 Axes>"
      ]
     },
     "metadata": {
      "needs_background": "light"
     },
     "output_type": "display_data"
    }
   ],
   "source": [
    "\n",
    "################################Consider the chainhole ABC seperated###############\n",
    "\n",
    "fig,axes = plt.subplots(2,3,figsize=(10,6))\n",
    "ax0,ax1,ax2,ax3,ax4,ax5=axes.flatten()\n",
    "ax0.hist(knobs[0],15, histtype='bar',color='dodgerblue')\n",
    "ax0.set(xlim=[0,16],ylim=[0,500],title='Vector method_ABholes_1stFilter',ylabel='Frequency',xlabel='knobs in hole')\n",
    "ax1.hist(knobs[2],15,density=False, histtype='bar',color='orange')\n",
    "ax1.set(xlim=[0,16],ylim=[0,500],title='SASA/chain_ABholes_2ndFilter',ylabel='Frequency',xlabel='knobs in hole')\n",
    "ax2.hist(knobs[4],15,density=False, histtype='bar',color='g')\n",
    "ax2.set(xlim=[0,16],ylim=[0,500],title='SASA/knob_ABholes_3rdFilter',ylabel='Frequency',xlabel='knobs in hole')\n",
    "\n",
    "\n",
    "ax3.hist(knobs[1],15,density=False, histtype='bar',color='dodgerblue')\n",
    "ax3.set(xlim=[0,16],ylim=[0,500],title='Vector method_Xholes_1stFilter',ylabel='Frequency',xlabel='knobs in hole')\n",
    "ax4.hist(knobs[3],15,density=False, histtype='bar',color='orange')\n",
    "ax4.set(xlim=[0,16],ylim=[0,500],title='SASA/chain_Xholes_2ndFilter',ylabel='Frequency',xlabel='knobs in hole')\n",
    "ax5.hist(knobs[5],15,density=False, histtype='bar',color='g')\n",
    "ax5.set(xlim=[0,16],ylim=[0,500],title='SASA/knob_Xholes_3rdFilter',ylabel='Frequency',xlabel='knobs in hole')\n",
    "\n",
    "fig.tight_layout()\n",
    "plt.show()\n",
    "\n",
    "\n"
   ]
  },
  {
   "cell_type": "code",
   "execution_count": 1,
   "id": "14cb5e71",
   "metadata": {
    "scrolled": true
   },
   "outputs": [
    {
     "name": "stdout",
     "output_type": "stream",
     "text": [
      "design_setup5_059-0002.pdb\n",
      "*** good design,finalscore is above 0    ### design_setup5_059-0002.pdb\n",
      "*** The finalscore is  7.5 there are 8 knobs packing into holes\n",
      "holeA8-9 ['knobX129']\n",
      "holeB9-10 ['knobX121']\n",
      "holeB16-17 ['knobX114']\n",
      "holeB23-24 ['knobX111']\n",
      "holeX111-112 ['knobA26']\n",
      "holeX118-119 ['knobA19']\n",
      "holeX121-122 ['knobA12']\n",
      "holeX125-126 ['knobA12']\n",
      "10 13 5 12 4 4 7.5\n"
     ]
    }
   ],
   "source": [
    "from Bio.PDB.PDBParser import PDBParser\n",
    "from Bio.PDB import *\n",
    "import sys, os\n",
    "import pack_analysisV3 as pack\n",
    "\n",
    "\n",
    "###Run multiple Rosetta Design output and make the plot\n",
    "### input 1) Path to directory of the rosetta output PDB files\n",
    "### input 2) chains(no spacing) of the target protein interface eg. AB\n",
    "### input 3) chain(single letter) of the \"design TM antibody\" eg. X\n",
    "### input 4) the cutoff of finalscore to decide what hole-knob-pair details you what to print out\n",
    "### input 5) the cutoff of filter to deicde whether this design worth going through \n",
    "### usage\n",
    "### python RUNME.py . AB X 8\n",
    "\n",
    "###The plotting part was meant to use on the jupyter notebook though\n",
    "\n",
    "#################INPUT SECTION#############################3\n",
    "# input_dir=sys.argv[3]\n",
    "# chainABC_str = sys.argv[4]\n",
    "# chainX_str=sys.argv[5]\n",
    "# scorecutoff=float(sys.argv[6])\n",
    "\n",
    "\n",
    "#####################INPUTSECTION##############################\n",
    "# input_dir='/home/sting-gpu/weiyi/design/MD_input_files/design_059-0002/design_059-0002/lastFrame_run_500ns.pdb'\n",
    "input_dir='/home/sting-gpu/weiyi/design/MD_input_files/design_059-0002/design_setup5_059-0002.pdb'\n",
    "\n",
    "chainABC_str = 'AB'\n",
    "chainX_str='X'\n",
    "scorecutoff=0\n",
    "thirdfilter=0\n",
    "\n",
    "###########################################################3\n",
    "\n",
    "\n",
    "# print(pdb_files)\n",
    "\n",
    "input_PDB_name = input_dir.split('/')[-1]\n",
    "print(input_PDB_name)\n",
    "parser   = PDBParser(QUIET=1)\n",
    "protein  = parser.get_structure(input_PDB_name,input_dir)[0]\n",
    "\n",
    "residues=list(protein.get_residues())\n",
    "# print(residues)\n",
    "for res in residues:\n",
    "    resid=res.get_id()\n",
    "#     print(resid)\n",
    "    resname=res.get_resname()\n",
    "    if resname == \"ACE\" or resname == \"NME\":\n",
    "        print(resname)\n",
    "        res.get_parent().detach_child(resid)\n",
    "        print(resid)\n",
    "\n",
    "    \n",
    "\n",
    "sum1,sum2,sum3,sum4,sum5,sum6,finalscore   =pack.excute(protein,chainABC_str,chainX_str,scorecutoff,thirdfilter)\n",
    "print(sum1,sum2,sum3,sum4,sum5,sum6,finalscore )\n"
   ]
  },
  {
   "cell_type": "code",
   "execution_count": 3,
   "id": "4114259a",
   "metadata": {
    "scrolled": true
   },
   "outputs": [
    {
     "name": "stdout",
     "output_type": "stream",
     "text": [
      "lastFrame_testrun.pdb\n",
      "ACE\n",
      "(' ', 105, ' ')\n",
      "NME\n",
      "(' ', 132, ' ')\n",
      "ACE\n",
      "(' ', 0, ' ')\n",
      "ACE\n",
      "(' ', 0, ' ')\n",
      "ACE\n",
      "(' ', 0, ' ')\n",
      "ACE\n",
      "(' ', 0, ' ')\n",
      "ACE\n",
      "(' ', 0, ' ')\n",
      "9 11 6 9 4 1 5\n"
     ]
    }
   ],
   "source": [
    "from Bio.PDB.PDBParser import PDBParser\n",
    "from Bio.PDB import *\n",
    "import sys, os\n",
    "import pack_analysisV3 as pack\n",
    "\n",
    "\n",
    "#####################INPUTSECTION##############################\n",
    "# input_dir='/home/sting-gpu/weiyi/design/MD/design_051_0007/wkr/lastFrame_run_npt.pdb'\n",
    "# input_dir='/home/sting-gpu/weiyi/design/MD_input_files/design_051_0007/wkr/lastFrame_run_em.pdb'\n",
    "\n",
    "# input_dir='/home/sting-gpu/weiyi/design/MD_input_files/design_051_0007/wkr/lastFrame_run.pdb'\n",
    "# input_dir='/home/sting-gpu/weiyi/design/MD_input_files/design_059-0002/design_setup5_059-0002.pdb'\n",
    "# input_dir ='/home/sting-gpu/weiyi/design/MD/design_019_0006/design_019_0006/lastframenpt.pdb'\n",
    "input_dir ='/home/sting-gpu/weiyi/design/MD/design_019_0006/design_019_0006/lastFrame_testrun.pdb'\n",
    "\n",
    "chainABC_str = 'FC'\n",
    "chainX_str='A'\n",
    "scorecutoff=0\n",
    "thirdfilter=0\n",
    "\n",
    "###########################################################3\n",
    "\n",
    "\n",
    "# print(pdb_files)\n",
    "\n",
    "input_PDB_name = input_dir.split('/')[-1]\n",
    "print(input_PDB_name)\n",
    "parser   = PDBParser(QUIET=1)\n",
    "protein  = parser.get_structure(input_PDB_name,input_dir)[0]\n",
    "\n",
    "residues=list(protein.get_residues())\n",
    "# print(residues)\n",
    "for res in residues:\n",
    "    resid=res.get_id()\n",
    "#     print(resid)\n",
    "    resname=res.get_resname()\n",
    "    if resname == \"ACE\" or resname == \"NME\":\n",
    "        print(resname)\n",
    "        res.get_parent().detach_child(resid)\n",
    "        print(resid)\n",
    "\n",
    "\n",
    "\n",
    "\n",
    "sum1,sum2,sum3,sum4,sum5,sum6,finalscore,packingnames=pack.excute(protein,chainABC_str,chainX_str,scorecutoff,thirdfilter)\n",
    "print(sum1,sum2,sum3,sum4,sum5,sum6,finalscore )\n",
    "\n"
   ]
  },
  {
   "cell_type": "code",
   "execution_count": null,
   "id": "e0b7577a",
   "metadata": {},
   "outputs": [],
   "source": [
    "input_dir='/home/sting-gpu/weiyi/design/MD_input_files/design_059-0002/trajrmsd_6to23.dat'\n",
    "oF=open(input_dir,'r')\n",
    "for line in oF.readlines():\n",
    "    "
   ]
  }
 ],
 "metadata": {
  "kernelspec": {
   "display_name": "Python 3 (ipykernel)",
   "language": "python",
   "name": "python3"
  },
  "language_info": {
   "codemirror_mode": {
    "name": "ipython",
    "version": 3
   },
   "file_extension": ".py",
   "mimetype": "text/x-python",
   "name": "python",
   "nbconvert_exporter": "python",
   "pygments_lexer": "ipython3",
   "version": "3.8.5"
  }
 },
 "nbformat": 4,
 "nbformat_minor": 5
}
