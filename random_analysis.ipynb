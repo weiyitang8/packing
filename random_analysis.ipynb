{
 "cells": [
  {
   "cell_type": "code",
   "execution_count": 1,
   "id": "d99125c9",
   "metadata": {},
   "outputs": [
    {
     "name": "stdout",
     "output_type": "stream",
     "text": [
      "                                              holes_interface\n",
      "design_input_struct-Full-target_059_0002.pdb        -0.045865\n",
      "design_input_struct-Full-target_019_0006.pdb        -0.031655\n",
      "design_input_struct-Full-target_016_0016.pdb         0.010292\n",
      "design_input_struct-Full-target_020_0004.pdb         0.018232\n",
      "design_input_struct-Full-target_003_0022.pdb         0.066300\n",
      "...                                                       ...\n",
      "design_input_struct-Full-target_029_0016.pdb         0.479336\n",
      "design_input_struct-Full-target_015_0015.pdb         0.481048\n",
      "design_input_struct-Full-target_031_0014.pdb         0.484399\n",
      "design_input_struct-Full-target_009_0035.pdb         0.492589\n",
      "design_input_struct-Full-target_012_0034.pdb         0.591883\n",
      "\n",
      "[95 rows x 1 columns]\n"
     ]
    }
   ],
   "source": [
    "import os, sys\n",
    "import pandas as pd\n",
    "\n",
    "\n",
    "# input_dir= sys.argv[1]\n",
    "# input_dir = '/Users/tangweiyi/desktop/design/output'\n",
    "input_dir = '/home/sting-gpu/weiyi/design/setup5_output2/good_packing'\n",
    "dir_files = os.listdir(input_dir)\n",
    "pdb_files = [x for x in dir_files if x[-3:]=='pdb']\n",
    "\n",
    "data = list(range(len(pdb_files)))\n",
    "\n",
    "\n",
    "for i, pdb in enumerate(pdb_files):\n",
    "\tpath = os.path.join(input_dir,pdb)\n",
    "\n",
    "\tinF = open(path,'r')\n",
    "\tpdb_text = inF.readlines()\n",
    "\n",
    "\tfor l in pdb_text[-500:]:\n",
    "\t\tif len(l) <1: continue\n",
    "\t\tline= l.rsplit()\n",
    "\t\tif len(line) <2:continue\n",
    "\n",
    "\t\tif 'holes-ABX_interface' == line[0]:\n",
    "\t\t\tholes_interface \t\t= float( line[1] )\n",
    "\t\t\tdata[i]=holes_interface\n",
    "df= pd.DataFrame(data, columns=['holes_interface'],index=pdb_files)\n",
    "df= df.sort_values(by='holes_interface')\n",
    "print(df)\n",
    "\t\t\t\n",
    "\n"
   ]
  },
  {
   "cell_type": "code",
   "execution_count": null,
   "id": "035a9827",
   "metadata": {},
   "outputs": [],
   "source": []
  }
 ],
 "metadata": {
  "kernelspec": {
   "display_name": "Python 3 (ipykernel)",
   "language": "python",
   "name": "python3"
  },
  "language_info": {
   "codemirror_mode": {
    "name": "ipython",
    "version": 3
   },
   "file_extension": ".py",
   "mimetype": "text/x-python",
   "name": "python",
   "nbconvert_exporter": "python",
   "pygments_lexer": "ipython3",
   "version": "3.8.5"
  }
 },
 "nbformat": 4,
 "nbformat_minor": 5
}
